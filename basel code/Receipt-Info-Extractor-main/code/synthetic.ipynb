{
 "cells": [
  {
   "cell_type": "code",
   "execution_count": 9,
   "metadata": {},
   "outputs": [
    {
     "name": "stdout",
     "output_type": "stream",
     "text": [
      "Synthetic dataset created in 'synthetic_digits_cropped'\n"
     ]
    }
   ],
   "source": [
    "import os\n",
    "from PIL import Image, ImageDraw, ImageFont\n",
    "\n",
    "# Create output directory\n",
    "output_dir = \"synthetic_digits_cropped\"\n",
    "if not os.path.exists(output_dir):\n",
    "    os.makedirs(output_dir)\n",
    "\n",
    "# Parameters\n",
    "image_size = (185, 386)  # Resolution of the image (width, height)\n",
    "num_images_per_digit = 10  # Number of images per digit\n",
    "digits = \"0123456789\"  # Digits to generate\n",
    "\n",
    "# Function to calculate maximum font size to fill the image\n",
    "def get_max_font_size(digit, image_size):\n",
    "    test_font_size = 10\n",
    "    while True:\n",
    "        try:\n",
    "            font = ImageFont.truetype(\"arial.ttf\", test_font_size)\n",
    "        except:\n",
    "            font = ImageFont.load_default()\n",
    "            break\n",
    "        # Create temporary image to test text size\n",
    "        temp_image = Image.new(\"RGB\", image_size, \"white\")\n",
    "        draw = ImageDraw.Draw(temp_image)\n",
    "        bbox = draw.textbbox((0, 0), digit, font=font)\n",
    "        text_width = bbox[2] - bbox[0]\n",
    "        text_height = bbox[3] - bbox[1]\n",
    "        if text_width > image_size[0] or text_height > image_size[1]:\n",
    "            break\n",
    "        test_font_size += 5\n",
    "    return test_font_size - 5\n",
    "\n",
    "# Function to generate digit image and crop it\n",
    "def generate_digit_image(digit, output_path):\n",
    "    # Create a blank image with white background\n",
    "    image = Image.new(\"RGB\", image_size, \"white\")\n",
    "    draw = ImageDraw.Draw(image)\n",
    "\n",
    "    # Dynamically calculate the maximum font size\n",
    "    max_font_size = get_max_font_size(digit, image_size)\n",
    "    font = ImageFont.truetype(\"arial.ttf\", max_font_size) if \"arial.ttf\" else ImageFont.load_default()\n",
    "    \n",
    "    # Calculate text position to center the number\n",
    "    bbox = draw.textbbox((0, 0), digit, font=font)\n",
    "    text_width = bbox[2] - bbox[0]\n",
    "    text_height = bbox[3] - bbox[1]\n",
    "    \n",
    "    # Shift text upward by reducing vertical position\n",
    "    vertical_offset = 20  # Adjust this value to reduce white space (increase to move text up)\n",
    "    text_position = ((image_size[0] - text_width) // 2, \n",
    "                     (image_size[1] - text_height) // 2 - vertical_offset)\n",
    "\n",
    "    # Draw the digit\n",
    "    draw.text(text_position, digit, fill=\"black\", font=font)\n",
    "\n",
    "    # Crop the image to remove white space\n",
    "    non_white_bbox = image.getbbox()\n",
    "    cropped_image = image.crop(non_white_bbox)\n",
    "    \n",
    "    # Save the cropped image\n",
    "    cropped_image.save(output_path)\n",
    "\n",
    "\n",
    "# Generate dataset\n",
    "for digit in digits:\n",
    "    digit_dir = os.path.join(output_dir, digit)\n",
    "    os.makedirs(digit_dir, exist_ok=True)\n",
    "    for i in range(num_images_per_digit):\n",
    "        output_path = os.path.join(digit_dir, f\"{digit}_{i}.png\")\n",
    "        generate_digit_image(digit, output_path)\n",
    "\n",
    "print(f\"Synthetic dataset created in '{output_dir}'\")\n"
   ]
  },
  {
   "cell_type": "code",
   "execution_count": null,
   "metadata": {},
   "outputs": [],
   "source": []
  }
 ],
 "metadata": {
  "kernelspec": {
   "display_name": "Python 3",
   "language": "python",
   "name": "python3"
  },
  "language_info": {
   "codemirror_mode": {
    "name": "ipython",
    "version": 3
   },
   "file_extension": ".py",
   "mimetype": "text/x-python",
   "name": "python",
   "nbconvert_exporter": "python",
   "pygments_lexer": "ipython3",
   "version": "3.10.5"
  }
 },
 "nbformat": 4,
 "nbformat_minor": 2
}
